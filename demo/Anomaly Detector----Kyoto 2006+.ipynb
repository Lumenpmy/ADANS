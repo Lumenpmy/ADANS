{
 "cells": [
  {
   "cell_type": "markdown",
   "id": "acc88bf6",
   "metadata": {},
   "source": [
    "## Intro\n",
    "This code will show the whole code flow of our proposed ADANS method. For the Kyoto 2006+ dataset, the Anomaly Detector in ADANS uses the AutoEncoder anomaly detection model.\n"
   ]
  },
  {
   "cell_type": "code",
   "id": "c89fc9e4",
   "metadata": {
    "ExecuteTime": {
     "end_time": "2025-05-13T06:13:59.759024Z",
     "start_time": "2025-05-13T06:13:57.614141Z"
    }
   },
   "source": [
    "%load_ext autoreload\n",
    "%autoreload 2\n",
    "%matplotlib notebook\n",
    "import sys\n",
    "sys.path.append('../moudles/')\n",
    "sys.path.append('../')\n",
    "import numpy as np\n",
    "from sklearn.preprocessing import MinMaxScaler\n",
    "from moudles import AE\n",
    "from moudles.ShiftDetector import ShiftDetector\n",
    "from moudles.DANN import DANN\n",
    "import myutils as utils\n",
    "import random\n",
    "from moudles.RepSampleSelector import Screener"
   ],
   "outputs": [
    {
     "name": "stdout",
     "output_type": "stream",
     "text": [
      "The autoreload extension is already loaded. To reload it, use:\n",
      "  %reload_ext autoreload\n"
     ]
    }
   ],
   "execution_count": 13
  },
  {
   "cell_type": "markdown",
   "id": "e68d4e4b",
   "metadata": {},
   "source": [
    "## Prepare AutoEncoder model and data"
   ]
  },
  {
   "cell_type": "code",
   "id": "50030fb0",
   "metadata": {
    "ExecuteTime": {
     "end_time": "2025-05-13T06:14:28.597706Z",
     "start_time": "2025-05-13T06:13:59.759024Z"
    }
   },
   "source": [
    "utils.set_random_seed()\n",
    "feat = np.load('data/2008.npz')\n",
    "X, y = feat['X'], feat['y']\n",
    "X_ben = X[y==0]\n",
    "train_num=50000\n",
    "X_train = X_ben[:train_num]\n",
    "scaler = MinMaxScaler().fit(X_train)\n",
    "X_train = scaler.transform(X_train)\n",
    "feature_size=X_train.shape[-1]\n",
    "model,thres= AE.train(X_train,feature_size)"
   ],
   "outputs": [
    {
     "name": "stdout",
     "output_type": "stream",
     "text": [
      "epoch:0/10 |Loss: 0.08840341866016388\n",
      "epoch:1/10 |Loss: 0.08830832690000534\n",
      "epoch:2/10 |Loss: 0.08753897249698639\n",
      "epoch:3/10 |Loss: 0.08715357631444931\n",
      "epoch:4/10 |Loss: 0.08621897548437119\n",
      "epoch:5/10 |Loss: 0.085350900888443\n",
      "epoch:6/10 |Loss: 0.084992915391922\n",
      "epoch:7/10 |Loss: 0.08500108867883682\n",
      "epoch:8/10 |Loss: 0.08406953513622284\n",
      "epoch:9/10 |Loss: 0.0839557871222496\n",
      "max AD score 0.39479694\n"
     ]
    }
   ],
   "execution_count": 14
  },
  {
   "cell_type": "code",
   "id": "8f799261",
   "metadata": {
    "ExecuteTime": {
     "end_time": "2025-05-13T06:14:29.423013Z",
     "start_time": "2025-05-13T06:14:28.597706Z"
    }
   },
   "source": [
    "FEAT_0 = np.load('data/2008.npz')\n",
    "X_0, y_0 = scaler.transform(FEAT_0['X']), FEAT_0['y']\n",
    "FEAT_1 = np.load('data/2011.npz')\n",
    "X_1, y_1 = scaler.transform(FEAT_1['X']), FEAT_1['y']"
   ],
   "outputs": [],
   "execution_count": 15
  },
  {
   "cell_type": "markdown",
   "id": "9b84b7e7",
   "metadata": {},
   "source": [
    "## See how AE performs on new data (data where normality shifts occur) and old data (data where normality shifts do not occur)"
   ]
  },
  {
   "cell_type": "code",
   "id": "609001b6",
   "metadata": {
    "ExecuteTime": {
     "end_time": "2025-05-13T06:14:30.028178Z",
     "start_time": "2025-05-13T06:14:29.423013Z"
    }
   },
   "source": [
    "print('****************************** Before Normality Shift occurs ******************************')\n",
    "y_pred_0, y_prob_0 = AE.test(model, thres, X_0)\n",
    "utils.TPR_FPR(y_prob_0, y_0, thres)\n"
   ],
   "outputs": [
    {
     "name": "stdout",
     "output_type": "stream",
     "text": [
      "****************************** Before Normality Shift occurs ******************************\n",
      "*********************** The relevant test indicators are as follows ***********************\n",
      "FPR (False Positive Rate): 0.01045333333333333\n",
      "TP: 20583, FP: 3136, TN: 296864, FN: 79417\n",
      "[Anomaly Class] Precision: 0.8677853197858221, Recall: 0.2058299999999998, F1: 0.3327378979474907\n",
      "--------------------\n",
      "Macro Precision: 0.8283638131002213\n",
      "Macro Recall   : 0.597688333333333\n",
      "Macro F1-Score : 0.6053344085730953\n"
     ]
    }
   ],
   "execution_count": 16
  },
  {
   "cell_type": "code",
   "id": "64d8383b",
   "metadata": {
    "ExecuteTime": {
     "end_time": "2025-05-13T06:14:30.652938Z",
     "start_time": "2025-05-13T06:14:30.028178Z"
    }
   },
   "source": [
    "print('****************************** After Normality Shift occurs ******************************')\n",
    "y_pred_1, y_prob_1 = AE.test(model, thres, X_1)\n",
    "utils.TPR_FPR(y_prob_1, y_1, thres)"
   ],
   "outputs": [
    {
     "name": "stdout",
     "output_type": "stream",
     "text": [
      "****************************** After Normality Shift occurs ******************************\n",
      "*********************** The relevant test indicators are as follows ***********************\n",
      "FPR (False Positive Rate): 0.060506666666666646\n",
      "TP: 7825, FP: 18152, TN: 281848, FN: 92175\n",
      "[Anomaly Class] Precision: 0.3012280093929234, Recall: 0.07824999999999992, F1: 0.12422902590056827\n",
      "--------------------\n",
      "Macro Precision: 0.5273929728347846\n",
      "Macro Recall   : 0.5088716666666664\n",
      "Macro F1-Score : 0.48027235026941495\n"
     ]
    }
   ],
   "execution_count": 17
  },
  {
   "cell_type": "markdown",
   "id": "daea8e65",
   "metadata": {},
   "source": [
    "**Apparently, the new data shows a 14% decrease in the AUC metric and a significant decrease in the performance of the anomaly detection model.\n",
    "Next let's use ADANS to solve the problem of anomaly detection models facing normality shift**"
   ]
  },
  {
   "cell_type": "markdown",
   "id": "d38aa3a1",
   "metadata": {},
   "source": [
    "## Let's use ADANS！"
   ]
  },
  {
   "cell_type": "code",
   "id": "a378f4ec",
   "metadata": {
    "ExecuteTime": {
     "end_time": "2025-05-13T06:14:31.306832Z",
     "start_time": "2025-05-13T06:14:30.652938Z"
    }
   },
   "source": [
    "# 新旧数据各自有30万个正常样本，10万个异常样本\n",
    "vali_num = 100000\n",
    "print(len(X_0))\n",
    "X_0_normal=X_0[y_0==0]\n",
    "print(len(X_0_normal))\n",
    "y_0_normal=y_0[y_0==0]\n",
    "y_prob_0_normal=y_prob_0[y_0==0]\n",
    "utils.set_random_seed()\n",
    "# 随机选择10万个样本，旧数据只有正常的，新数据混合有正常和异常的样本\n",
    "random_sequence_o = random.sample(range(0,len(X_0_normal)), vali_num)\n",
    "rmse_o = y_prob_0_normal[random_sequence_o]\n",
    "X_o_normal = X_0_normal[random_sequence_o]\n",
    "y_o_normal=y_0_normal[random_sequence_o]\n",
    "\n",
    "random_sequence_n = random.sample(range(0,len(X_1)), vali_num)\n",
    "X_n = X_1[random_sequence_n]\n",
    "rmse_n = y_prob_1[random_sequence_n]\n",
    "y_n=y_1[random_sequence_n]\n",
    "\n",
    "# Number of anomalous samples included in 100,000 samples of old data\n",
    "j=0\n",
    "for i in range(100000):\n",
    "    if(y_o_normal[i]==1):\n",
    "        j=j+1\n",
    "print(j)\n",
    "# Number of anomalous samples contained in 100,000 samples of new data\n",
    "m=0\n",
    "for i in range(100000):\n",
    "    if(y_n[i]==1):\n",
    "        m=m+1\n",
    "print(m)\n"
   ],
   "outputs": [
    {
     "name": "stdout",
     "output_type": "stream",
     "text": [
      "400000\n",
      "300000\n",
      "0\n",
      "24788\n"
     ]
    }
   ],
   "execution_count": 18
  },
  {
   "metadata": {},
   "cell_type": "markdown",
   "source": "## Normality Shift Detector",
   "id": "46bfc52146681143"
  },
  {
   "metadata": {
    "ExecuteTime": {
     "end_time": "2025-05-13T06:21:16.335214Z",
     "start_time": "2025-05-13T06:14:31.307876Z"
    }
   },
   "cell_type": "code",
   "source": [
    "\n",
    "X_o_rep_nor_np=X_o_normal\n",
    "X_n_rep_nor_np=X_n\n",
    "\n",
    "utils.set_random_seed()\n",
    "sd = ShiftDetector()\n",
    "\n",
    "random_sequence_o = random.sample(range(0,len(X_o_rep_nor_np)), len(X_n_rep_nor_np))\n",
    "X_o_rep_nor_np_len=X_o_rep_nor_np[random_sequence_o]\n",
    "# print(len(X_o_rep_nor_np_len))\n",
    "t = utils.get_params('ShiftDetector')['test_thres']\n",
    "p_value,observed_SCMD = sd.Monte_Carlo_Encoder(model.encoder,X_o_rep_nor_np_len,X_n_rep_nor_np)\n",
    "if p_value >= t:\n",
    "    print(\"No normality shift!\", p_value)\n",
    "else:\n",
    "    print('Shift! P-value is', p_value)\n"
   ],
   "id": "521cc575de4efcfb",
   "outputs": [
    {
     "name": "stdout",
     "output_type": "stream",
     "text": [
      "SCMD为: 1.501585602760315\n",
      "KL 散度（直方图）: 13.897589294978436\n",
      "Z_x 均值: tensor([-0.2027,  0.0737, -0.0512, -0.1065])\n",
      "Z_y 均值: tensor([-0.2032,  0.0718, -0.0519, -0.1058])\n",
      "Z_x 方差: tensor([1.0796e-05, 6.3963e-05, 1.5110e-05, 5.5867e-06])\n",
      "Z_y 方差: tensor([2.3154e-01, 1.8806e-04, 1.8880e-01, 3.8912e-02])\n",
      "Z_x 协方差矩阵:\n",
      " tensor([[ 1.0796e-05, -2.1084e-06, -1.0251e-05, -6.2678e-06],\n",
      "        [-2.1084e-06,  6.3961e-05, -1.7852e-06,  3.7115e-06],\n",
      "        [-1.0251e-05, -1.7852e-06,  1.5109e-05,  7.0569e-06],\n",
      "        [-6.2678e-06,  3.7115e-06,  7.0569e-06,  5.5864e-06]])\n",
      "Z_y 协方差矩阵:\n",
      " tensor([[ 2.3152e-01, -4.2277e-03, -2.0906e-01, -9.4896e-02],\n",
      "        [-4.2277e-03,  1.8804e-04,  3.8045e-03,  1.7394e-03],\n",
      "        [-2.0906e-01,  3.8045e-03,  1.8878e-01,  8.5688e-02],\n",
      "        [-9.4896e-02,  1.7394e-03,  8.5688e-02,  3.8902e-02]])\n",
      "Shift! P-value is 0.000999000999000999\n"
     ]
    }
   ],
   "execution_count": 19
  },
  {
   "metadata": {},
   "cell_type": "markdown",
   "source": "## Normality Shift Screener",
   "id": "162179ada8f2d6"
  },
  {
   "metadata": {
    "ExecuteTime": {
     "end_time": "2025-05-13T06:21:26.068067Z",
     "start_time": "2025-05-13T06:21:16.339218Z"
    }
   },
   "cell_type": "code",
   "source": [
    "\n",
    "old_num = 50000\n",
    "label_num =10000\n",
    "labeling_probability = label_num/vali_num\n",
    "print(labeling_probability)\n",
    "\n",
    "scranner = Screener(model, X_o_normal, X_n, y_n, old_num, label_num, X_1, observed_SCMD)\n",
    "result = scranner.select_samples()"
   ],
   "id": "9e3710f3c393b1e3",
   "outputs": [
    {
     "name": "stdout",
     "output_type": "stream",
     "text": [
      "0.1\n",
      "NOTICE: simulating labelling...\n",
      "Filter 2512 anomalies in X_i_rep\n",
      " (label_num:10000, X_i_rep_normal:7488, X_i:100000)\n"
     ]
    }
   ],
   "execution_count": 20
  },
  {
   "cell_type": "code",
   "id": "559d8a47-864c-4583-a935-907095af7eff",
   "metadata": {
    "ExecuteTime": {
     "end_time": "2025-05-13T06:21:26.388426Z",
     "start_time": "2025-05-13T06:21:26.068067Z"
    }
   },
   "source": [
    "X_o_rep_nor=result[0]\n",
    "X_n_rep_nor=result[2]\n",
    "print(type(X_o_rep_nor))\n",
    "print(X_o_rep_nor.shape)\n",
    "\n",
    "print(type(X_n_rep_nor))\n",
    "print(X_n_rep_nor.shape)"
   ],
   "outputs": [
    {
     "name": "stdout",
     "output_type": "stream",
     "text": [
      "<class 'torch.Tensor'>\n",
      "torch.Size([50000, 49])\n",
      "<class 'torch.Tensor'>\n",
      "torch.Size([7488, 49])\n"
     ]
    }
   ],
   "execution_count": 21
  },
  {
   "cell_type": "markdown",
   "id": "3c13739e-2281-4c70-85fe-ee97c9b05439",
   "metadata": {},
   "source": "## Normality Shift Adapter"
  },
  {
   "cell_type": "code",
   "id": "1865c0e6-16c8-4df8-844d-059852f2dd05",
   "metadata": {
    "scrolled": true,
    "ExecuteTime": {
     "end_time": "2025-05-13T06:21:54.983051Z",
     "start_time": "2025-05-13T06:21:26.389422Z"
    }
   },
   "source": [
    "\n",
    "utils.set_random_seed()\n",
    "dann=DANN(model,X_o_rep_nor,X_n_rep_nor,feature_size,thres*0.18,labeling_probability)\n",
    "dann.update_AE()\n"
   ],
   "outputs": [
    {
     "name": "stdout",
     "output_type": "stream",
     "text": [
      "epoch:0/20\n",
      "old_domain_classfiy_loss: 0.3643178939819336 new_domain_classfiy_loss: 0.3283810615539551 domain_classfiy_loss: 0.6926989555358887\n",
      "label_predictor_loss: 0.14967402815818787\n",
      "feature_extractor_loss: 0.8423730134963989\n",
      "epoch:1/20\n",
      "old_domain_classfiy_loss: 0.35112375020980835 new_domain_classfiy_loss: 0.344595342874527 domain_classfiy_loss: 0.6957191228866577\n",
      "label_predictor_loss: 0.12416226416826248\n",
      "feature_extractor_loss: 0.8198813796043396\n",
      "epoch:2/20\n",
      "old_domain_classfiy_loss: 0.331030011177063 new_domain_classfiy_loss: 0.3518393933773041 domain_classfiy_loss: 0.6828694343566895\n",
      "label_predictor_loss: 0.12528976798057556\n",
      "feature_extractor_loss: 0.8081592321395874\n",
      "epoch:3/20\n",
      "old_domain_classfiy_loss: 0.3593442142009735 new_domain_classfiy_loss: 0.35078880190849304 domain_classfiy_loss: 0.7101330161094666\n",
      "label_predictor_loss: 0.12621286511421204\n",
      "feature_extractor_loss: 0.836345911026001\n",
      "epoch:4/20\n",
      "old_domain_classfiy_loss: 0.3791371285915375 new_domain_classfiy_loss: 0.3429240584373474 domain_classfiy_loss: 0.7220611572265625\n",
      "label_predictor_loss: 0.1285760998725891\n",
      "feature_extractor_loss: 0.8506372570991516\n",
      "epoch:5/20\n",
      "old_domain_classfiy_loss: 0.24428105354309082 new_domain_classfiy_loss: 0.433492511510849 domain_classfiy_loss: 0.6777735948562622\n",
      "label_predictor_loss: 0.12287822365760803\n",
      "feature_extractor_loss: 0.8006517887115479\n",
      "epoch:6/20\n",
      "old_domain_classfiy_loss: 0.4371236264705658 new_domain_classfiy_loss: 0.28831416368484497 domain_classfiy_loss: 0.7254377603530884\n",
      "label_predictor_loss: 0.11082752048969269\n",
      "feature_extractor_loss: 0.8362652659416199\n",
      "epoch:7/20\n",
      "old_domain_classfiy_loss: 0.34913620352745056 new_domain_classfiy_loss: 0.34285470843315125 domain_classfiy_loss: 0.6919909119606018\n",
      "label_predictor_loss: 0.13477766513824463\n",
      "feature_extractor_loss: 0.8267685770988464\n",
      "epoch:8/20\n",
      "old_domain_classfiy_loss: 0.3304717540740967 new_domain_classfiy_loss: 0.36032432317733765 domain_classfiy_loss: 0.6907960772514343\n",
      "label_predictor_loss: 0.1322145164012909\n",
      "feature_extractor_loss: 0.8230105638504028\n",
      "epoch:9/20\n",
      "old_domain_classfiy_loss: 0.34804797172546387 new_domain_classfiy_loss: 0.3477994203567505 domain_classfiy_loss: 0.6958473920822144\n",
      "label_predictor_loss: 0.13386692106723785\n",
      "feature_extractor_loss: 0.829714298248291\n",
      "epoch:10/20\n",
      "old_domain_classfiy_loss: 0.36780673265457153 new_domain_classfiy_loss: 0.32945317029953003 domain_classfiy_loss: 0.6972599029541016\n",
      "label_predictor_loss: 0.11684402823448181\n",
      "feature_extractor_loss: 0.8141039609909058\n",
      "epoch:11/20\n",
      "old_domain_classfiy_loss: 0.38272279500961304 new_domain_classfiy_loss: 0.31579768657684326 domain_classfiy_loss: 0.6985204815864563\n",
      "label_predictor_loss: 0.1164805144071579\n",
      "feature_extractor_loss: 0.8150010108947754\n",
      "epoch:12/20\n",
      "old_domain_classfiy_loss: 0.3961309790611267 new_domain_classfiy_loss: 0.30077964067459106 domain_classfiy_loss: 0.6969106197357178\n",
      "label_predictor_loss: 0.11802152544260025\n",
      "feature_extractor_loss: 0.8149321675300598\n",
      "epoch:13/20\n",
      "old_domain_classfiy_loss: 0.3952230215072632 new_domain_classfiy_loss: 0.2998289167881012 domain_classfiy_loss: 0.695051908493042\n",
      "label_predictor_loss: 0.11881031841039658\n",
      "feature_extractor_loss: 0.8138622045516968\n",
      "epoch:14/20\n",
      "old_domain_classfiy_loss: 0.3952532112598419 new_domain_classfiy_loss: 0.2989996373653412 domain_classfiy_loss: 0.6942528486251831\n",
      "label_predictor_loss: 0.12873601913452148\n",
      "feature_extractor_loss: 0.8229888677597046\n",
      "epoch:15/20\n",
      "old_domain_classfiy_loss: 0.38162094354629517 new_domain_classfiy_loss: 0.3107416033744812 domain_classfiy_loss: 0.6923625469207764\n",
      "label_predictor_loss: 0.12854382395744324\n",
      "feature_extractor_loss: 0.820906400680542\n",
      "epoch:16/20\n",
      "old_domain_classfiy_loss: 0.3614906966686249 new_domain_classfiy_loss: 0.33166348934173584 domain_classfiy_loss: 0.6931542158126831\n",
      "label_predictor_loss: 0.12869766354560852\n",
      "feature_extractor_loss: 0.8218518495559692\n",
      "epoch:17/20\n",
      "old_domain_classfiy_loss: 0.3565749228000641 new_domain_classfiy_loss: 0.3358634114265442 domain_classfiy_loss: 0.6924383640289307\n",
      "label_predictor_loss: 0.12507110834121704\n",
      "feature_extractor_loss: 0.8175094723701477\n",
      "epoch:18/20\n",
      "old_domain_classfiy_loss: 0.34879013895988464 new_domain_classfiy_loss: 0.344389408826828 domain_classfiy_loss: 0.6931795477867126\n",
      "label_predictor_loss: 0.12275810539722443\n",
      "feature_extractor_loss: 0.8159376382827759\n",
      "epoch:19/20\n",
      "old_domain_classfiy_loss: 0.34411749243736267 new_domain_classfiy_loss: 0.3497176468372345 domain_classfiy_loss: 0.6938351392745972\n",
      "label_predictor_loss: 0.12698695063591003\n",
      "feature_extractor_loss: 0.8208221197128296\n"
     ]
    }
   ],
   "execution_count": 22
  },
  {
   "cell_type": "markdown",
   "id": "e2d37877",
   "metadata": {},
   "source": "## Re-testing the performance of the anomaly detection model (AE) on new and old data"
  },
  {
   "cell_type": "code",
   "id": "49b56ee3",
   "metadata": {
    "scrolled": true,
    "ExecuteTime": {
     "end_time": "2025-05-13T06:21:55.630095Z",
     "start_time": "2025-05-13T06:21:54.984565Z"
    }
   },
   "source": [
    "%matplotlib inline\n",
    "print('After ADANS Adaptation @2011:')\n",
    "y_pred, y_prob = AE.test(dann.updated_AE,thres, X_1)\n",
    "utils.TPR_FPR(y_prob, y_1, thres)"
   ],
   "outputs": [
    {
     "name": "stdout",
     "output_type": "stream",
     "text": [
      "After ADANS Adaptation @2011:\n",
      "*********************** The relevant test indicators are as follows ***********************\n",
      "FPR (False Positive Rate): 0.0813333333333333\n",
      "TP: 17664, FP: 24400, TN: 275600, FN: 82336\n",
      "[Anomaly Class] Precision: 0.41993153290224317, Recall: 0.17663999999999982, F1: 0.2486766527345289\n",
      "--------------------\n",
      "Macro Precision: 0.5949507917070331\n",
      "Macro Recall   : 0.5476533333333331\n",
      "Macro F1-Score : 0.5432240538296301\n"
     ]
    }
   ],
   "execution_count": 23
  },
  {
   "metadata": {
    "ExecuteTime": {
     "end_time": "2025-05-13T06:21:56.388866Z",
     "start_time": "2025-05-13T06:21:55.631284Z"
    }
   },
   "cell_type": "code",
   "source": [
    "%matplotlib inline\n",
    "print('After ADANS Adaptation @2008:')\n",
    "y_pred, y_prob = AE.test(dann.updated_AE,thres, X_0)\n",
    "utils.TPR_FPR(y_prob, y_0, thres)"
   ],
   "id": "78ca19233969fb4f",
   "outputs": [
    {
     "name": "stdout",
     "output_type": "stream",
     "text": [
      "After ADANS Adaptation @2008:\n",
      "*********************** The relevant test indicators are as follows ***********************\n",
      "FPR (False Positive Rate): 0.01743666666666666\n",
      "TP: 40219, FP: 5231, TN: 294769, FN: 59781\n",
      "[Anomaly Class] Precision: 0.8849064906490629, Recall: 0.4021899999999996, F1: 0.5530285320986614\n",
      "--------------------\n",
      "Macro Precision: 0.8581477877021931\n",
      "Macro Recall   : 0.6923766666666662\n",
      "Macro F1-Score : 0.726852666452279\n"
     ]
    }
   ],
   "execution_count": 24
  }
 ],
 "metadata": {
  "hide_input": false,
  "kernelspec": {
   "display_name": "Python 3 (ipykernel)",
   "language": "python",
   "name": "python3"
  },
  "language_info": {
   "codemirror_mode": {
    "name": "ipython",
    "version": 3
   },
   "file_extension": ".py",
   "mimetype": "text/x-python",
   "name": "python",
   "nbconvert_exporter": "python",
   "pygments_lexer": "ipython3",
   "version": "3.11.7"
  },
  "varInspector": {
   "cols": {
    "lenName": 16,
    "lenType": 16,
    "lenVar": 40
   },
   "kernels_config": {
    "python": {
     "delete_cmd_postfix": "",
     "delete_cmd_prefix": "del ",
     "library": "var_list.py",
     "varRefreshCmd": "print(var_dic_list())"
    },
    "r": {
     "delete_cmd_postfix": ") ",
     "delete_cmd_prefix": "rm(",
     "library": "var_list.r",
     "varRefreshCmd": "cat(var_dic_list()) "
    }
   },
   "types_to_exclude": [
    "module",
    "function",
    "builtin_function_or_method",
    "instance",
    "_Feature"
   ],
   "window_display": false
  }
 },
 "nbformat": 4,
 "nbformat_minor": 5
}
